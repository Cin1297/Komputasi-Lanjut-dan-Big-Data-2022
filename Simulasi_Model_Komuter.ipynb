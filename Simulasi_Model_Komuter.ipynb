{
  "nbformat": 4,
  "nbformat_minor": 0,
  "metadata": {
    "colab": {
      "provenance": [],
      "authorship_tag": "ABX9TyPgjhZZd+RUaLCsIw9DqRe2",
      "include_colab_link": true
    },
    "kernelspec": {
      "name": "python3",
      "display_name": "Python 3"
    },
    "language_info": {
      "name": "python"
    }
  },
  "cells": [
    {
      "cell_type": "markdown",
      "metadata": {
        "id": "view-in-github",
        "colab_type": "text"
      },
      "source": [
        "<a href=\"https://colab.research.google.com/github/Cin1297/Komputasi-Lanjut-dan-Big-Data-2022/blob/main/Simulasi_Model_Komuter.ipynb\" target=\"_parent\"><img src=\"https://colab.research.google.com/assets/colab-badge.svg\" alt=\"Open In Colab\"/></a>"
      ]
    },
    {
      "cell_type": "code",
      "execution_count": 2,
      "metadata": {
        "colab": {
          "base_uri": "https://localhost:8080/",
          "height": 279
        },
        "id": "0I5oQ2p2tAln",
        "outputId": "4caa4f86-e369-4b3b-bf5b-e9c92149b1a3"
      },
      "outputs": [
        {
          "output_type": "display_data",
          "data": {
            "text/plain": [
              "<Figure size 432x288 with 1 Axes>"
            ],
            "image/png": "[encoded data removed]"
          },
          "metadata": {
            "needs_background": "light"
          }
        }
      ],
      "source": [
        "from scipy.integrate import odeint\n",
        "import matplotlib.pyplot as plt\n",
        "import numpy as np\n",
        "\n",
        "# A = Jakarta, B = Bekasi\n",
        "beta_a = 0.5 #Proporsi berhasil terinfeksi dari kota A\n",
        "beta_b = 0.5 #Proporsi berhasil terinfeksi dari kota B\n",
        "p = 0.11 #Proporsi komuter dari kota A\n",
        "q = 0.53 #Proporsi komuter dari kota B\n",
        "w = 3.5 #Na/Nb = 10 557 810 / 3 013 851 (Source: BPS 2019)\n",
        "gamma = 0.97 #Proporsi kesembuhan\n",
        "mu = 0.16 #Proporsi kematian\n",
        "ya_0 = 0.01 #Proporsi penduduk A terinfeksi pada t=0\n",
        "yb_0 = 0.01 #Proporsi penduduk B terinfeksi pada t=0\n",
        "interval = 100 #in days\n",
        "\n",
        "def model(y,t,beta_a,beta_b,p,q,gamma,mu,w):\n",
        "  ya, yb = y\n",
        "  dya = beta_b*p*(1-ya)*((1-q)*yb/((1-q)+p*w)) + beta_a*(1-p)*(1-ya)*(q*yb/((1-p)*w+q)) + beta_a*(1-ya)*ya - ya*(gamma+mu)\n",
        "  dyb = beta_a*q*(1-yb)*((1-p)*ya*w/((1-p)*w+q)) + beta_b*(1-q)*(1-yb)*(p*ya*w/((1-q)+p*w)) + beta_b*(1-yb)*yb - yb*(gamma+mu)\n",
        "  return dya, dyb\n",
        "\n",
        "timesteps = np.linspace(0, interval, interval+1) #100-days\n",
        "sol = odeint(model, (ya_0,yb_0), timesteps, args=(beta_a,beta_b,p,q,gamma,mu,w))\n",
        "plt.plot(timesteps,sol)\n",
        "plt.xlabel('Time (day)')\n",
        "plt.ylabel('Infected (prop)')\n",
        "plt.legend(['Kota A','Kota B'])\n",
        "plt.show()"
      ]
    }
  ]
}